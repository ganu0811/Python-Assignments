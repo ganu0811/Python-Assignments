{
 "cells": [
  {
   "cell_type": "code",
   "execution_count": 11,
   "id": "fca08605",
   "metadata": {},
   "outputs": [],
   "source": [
    "import pandas as pd\n",
    "import numpy as np"
   ]
  },
  {
   "cell_type": "markdown",
   "id": "b339166c",
   "metadata": {},
   "source": [
    "### Question 1: Alexandre Theophille Vandermonde\n",
    "\n",
    "Write a function so that the columns of the output matrix are powers of the input\n",
    "vector."
   ]
  },
  {
   "cell_type": "code",
   "execution_count": 6,
   "id": "f3ff8116",
   "metadata": {},
   "outputs": [
    {
     "data": {
      "text/plain": [
       "array([[ 64,  16,   4,   1],\n",
       "       [125,  25,   5,   1],\n",
       "       [216,  36,   6,   1],\n",
       "       [343,  49,   7,   1]])"
      ]
     },
     "execution_count": 6,
     "metadata": {},
     "output_type": "execute_result"
    }
   ],
   "source": [
    "\n",
    "x=np.array([4,5,6,7])\n",
    "N=4\n",
    "y=np.vander(x,N)\n",
    "y"
   ]
  },
  {
   "cell_type": "code",
   "execution_count": 9,
   "id": "fd77ea62",
   "metadata": {},
   "outputs": [
    {
     "data": {
      "text/plain": [
       "array([[  1,   4,  16,  64],\n",
       "       [  1,   5,  25, 125],\n",
       "       [  1,   6,  36, 216],\n",
       "       [  1,   7,  49, 343]])"
      ]
     },
     "execution_count": 9,
     "metadata": {},
     "output_type": "execute_result"
    }
   ],
   "source": [
    "np.fliplr(y)"
   ]
  },
  {
   "cell_type": "markdown",
   "id": "e03c41cb",
   "metadata": {},
   "source": [
    "### Question 2 : Moving Averages\n",
    "\n",
    "Write a function to find moving average in an array over a window:\n",
    " Test it over [3, 5, 7, 2, 8, 10, 11, 65, 72, 81, 99, 100, 150] and window of 3.\n",
    "\n"
   ]
  },
  {
   "cell_type": "code",
   "execution_count": 16,
   "id": "30d0edf8",
   "metadata": {},
   "outputs": [
    {
     "name": "stdout",
     "output_type": "stream",
     "text": [
      "[5, 4, 5, 6, 9, 28, 49, 72, 84, 93, 116]\n"
     ]
    }
   ],
   "source": [
    "a=[3, 5, 7, 2, 8, 10, 11, 65, 72, 81, 99, 100, 150]\n",
    "k=3\n",
    "\n",
    "i=0\n",
    "moving_avg=[]\n",
    "while i<len(a)-k +1:\n",
    "    window_avg=int(np.sum(a[i:i+k])/k)\n",
    "    moving_avg.append(window_avg)\n",
    "    i= i+1\n",
    "print(moving_avg)"
   ]
  },
  {
   "cell_type": "code",
   "execution_count": null,
   "id": "2ea247b4",
   "metadata": {},
   "outputs": [],
   "source": []
  }
 ],
 "metadata": {
  "kernelspec": {
   "display_name": "Python 3 (ipykernel)",
   "language": "python",
   "name": "python3"
  },
  "language_info": {
   "codemirror_mode": {
    "name": "ipython",
    "version": 3
   },
   "file_extension": ".py",
   "mimetype": "text/x-python",
   "name": "python",
   "nbconvert_exporter": "python",
   "pygments_lexer": "ipython3",
   "version": "3.9.15"
  }
 },
 "nbformat": 4,
 "nbformat_minor": 5
}
